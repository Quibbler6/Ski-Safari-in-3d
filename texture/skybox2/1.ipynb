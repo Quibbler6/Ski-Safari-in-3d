{
 "cells": [
  {
   "cell_type": "code",
   "execution_count": 1,
   "metadata": {},
   "outputs": [],
   "source": [
    "import numpy as numpy\n",
    "import matplotlib.pyplot as plt\n",
    "import cv2"
   ]
  },
  {
   "cell_type": "code",
   "execution_count": 2,
   "metadata": {},
   "outputs": [],
   "source": [
    "# Read in the image\n",
    "top = cv2.imread('top.png')\n",
    "bottom = cv2.imread('bottom.png')\n",
    "left = cv2.imread('left.png')\n",
    "right = cv2.imread('right.png')\n",
    "front = cv2.imread('front.png')\n",
    "back = cv2.imread('back.png')"
   ]
  },
  {
   "cell_type": "code",
   "execution_count": 3,
   "metadata": {},
   "outputs": [
    {
     "data": {
      "text/plain": [
       "True"
      ]
     },
     "execution_count": 3,
     "metadata": {},
     "output_type": "execute_result"
    }
   ],
   "source": [
    "# 调整图像亮度为原来的60%\n",
    "top = cv2.convertScaleAbs(top, alpha=0.6)\n",
    "bottom = cv2.convertScaleAbs(bottom, alpha=0.6)\n",
    "left = cv2.convertScaleAbs(left, alpha=0.6)\n",
    "right = cv2.convertScaleAbs(right, alpha=0.6)\n",
    "front = cv2.convertScaleAbs(front, alpha=0.6)\n",
    "back = cv2.convertScaleAbs(back, alpha=0.6)\n",
    "# 保存调整后的图像\n",
    "cv2.imwrite('top.png', top)\n",
    "cv2.imwrite('bottom.png', bottom)\n",
    "cv2.imwrite('left.png', left)\n",
    "cv2.imwrite('right.png', right)\n",
    "cv2.imwrite('front.png', front)\n",
    "cv2.imwrite('back.png', back)\n"
   ]
  }
 ],
 "metadata": {
  "kernelspec": {
   "display_name": "cv",
   "language": "python",
   "name": "python3"
  },
  "language_info": {
   "codemirror_mode": {
    "name": "ipython",
    "version": 3
   },
   "file_extension": ".py",
   "mimetype": "text/x-python",
   "name": "python",
   "nbconvert_exporter": "python",
   "pygments_lexer": "ipython3",
   "version": "3.7.16"
  }
 },
 "nbformat": 4,
 "nbformat_minor": 2
}
